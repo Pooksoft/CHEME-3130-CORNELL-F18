{
 "cells": [
  {
   "cell_type": "markdown",
   "metadata": {},
   "source": [
    "### Use Newton's method to solve a cubic equation of state."
   ]
  },
  {
   "cell_type": "markdown",
   "metadata": {},
   "source": [
    "Estimate the molar liquid volume $v_{l}$ (L/mol), and the molar vapor volume of $v_{v}$ (L/mol) of n-butane at reduced temperature $T_{r}$ = 0.7 using the van der Waals (vdW) equation of state and _Newtons method_.\n",
    "\n",
    "  - Derive the molar volume recursion relationship between iteration $v_{\\star,k}$ and $v_{\\star,k+1}$ for _Newton's method_.\n",
    "  - Use NIST to generate initial guesses for P$^{sat}$, $v_{l}$ and $v_{v}$ at $T_{r}$ = 0.7.\n",
    "  - Calculate _two Newton iterations_ for $v_{l}$ and $v_{v}$ starting from the initial guesses from b)."
   ]
  },
  {
   "cell_type": "code",
   "execution_count": 12,
   "metadata": {},
   "outputs": [
    {
     "data": {
      "text/plain": [
       "9.313242319414304"
      ]
     },
     "execution_count": 12,
     "metadata": {},
     "output_type": "execute_result"
    }
   ],
   "source": [
    "# Load Julia packages -\n",
    "using DataFrames\n",
    "using CSV\n",
    "using PyPlot\n",
    "\n",
    "# Load my code -\n",
    "include(\"./code/NewtonsMethod.jl\")\n",
    "\n",
    "# Load n-butane data from NIST at Tr = 0.7\n",
    "Pcr = 3.18 # MPa\n",
    "Tcr = 425 # K\n",
    "T = 0.7*Tc # K\n",
    "\n",
    "# Load the data -\n",
    "butane_data_table_SAT = CSV.read(\"Butane-NIST-SAT.txt\",delim='\\t');\n",
    "\n",
    "# Looking at the data -\n",
    "vl_ig = 0.1 # L/mol\n",
    "vv_ig = 9.53 # L/mol\n",
    "PSat_ig = 0.25 # MPa \n",
    "\n",
    "# call newton code -\n",
    "v_estimate_l = solve_vdw_newtons_method(T,Tcr,Pcr,vv_ig,PSat_ig)"
   ]
  }
 ],
 "metadata": {
  "kernelspec": {
   "display_name": "Julia 1.0.0",
   "language": "julia",
   "name": "julia-1.0"
  },
  "language_info": {
   "file_extension": ".jl",
   "mimetype": "application/julia",
   "name": "julia",
   "version": "1.0.0"
  }
 },
 "nbformat": 4,
 "nbformat_minor": 2
}
